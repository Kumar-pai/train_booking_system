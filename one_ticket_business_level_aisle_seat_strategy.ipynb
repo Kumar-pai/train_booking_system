{
 "cells": [
  {
   "cell_type": "code",
   "execution_count": 1,
   "id": "4bf272c8",
   "metadata": {},
   "outputs": [],
   "source": [
    "#ticket\n",
    "from dataclasses import dataclass, field\n",
    "\n",
    "@dataclass\n",
    "class TicketInfo:\n",
    "    \"\"\"\n",
    "    Seat Info:\n",
    "        car:\n",
    "            range: 1 - 10\n",
    "        row:\n",
    "            window seat: A, E\n",
    "            aisle seat: B, C, D\n",
    "        column:\n",
    "            range: 1 - 10\n",
    "    \"\"\"\n",
    "    order_id: str\n",
    "    car_number: int\n",
    "    column_no: int\n",
    "    row_no: str\n",
    "    def __post_init__(self):\n",
    "        # vertify seat info\n",
    "        if self.car_number not in range(1, 11):\n",
    "            raise TypeError('unknown car number')\n",
    "        elif self.column_no not in range(1, 11):\n",
    "            raise TypeError('unknown column number')\n",
    "        elif self.row_no not in ['A', 'B', 'C', 'D', 'E']:\n",
    "            raise TypeError('unknown row number')"
   ]
  },
  {
   "cell_type": "code",
   "execution_count": 322,
   "id": "121f9bee",
   "metadata": {},
   "outputs": [],
   "source": [
    "# picking ticket strategy\n",
    "import random\n",
    "from typing import List\n",
    "from typing import Callable\n",
    "\n",
    "TicketOrderingStrategy = Callable[[str], List[TicketInfo]]\n",
    "\n",
    "def one_ticket_business_level_random_seat_strategy(seat_list_list: list, order_id: str) -> List[TicketInfo]:\n",
    "    return [TicketInfo(order_id, 1, 1, 'C')]\n",
    "\n",
    "def one_ticket_business_level_window_seat_strategy(seat_list_list: list, order_id: str) -> List[TicketInfo]:\n",
    "    return [TicketInfo(order_id, 1, 2, 'A')]\n",
    "\n",
    "def one_ticket_business_level_aisle_seat_strategy(seat_list_list: list, order_id: str) -> List[TicketInfo]:\n",
    "    parse_seat_list = parse_seat_list_status(seat_list_list)\n",
    "    \n",
    "    #get row seat number\n",
    "    row_seat_number = [sum(row[1:4]) for row in parse_seat_list]\n",
    "\n",
    "    #get the smallest row seat number x-axis coordinates\n",
    "    try: \n",
    "        x_axis = row_seat_number.index(min(row for row in row_seat_number if row > 0))\n",
    "    except:\n",
    "        print(\"No seats available\")\n",
    "        return\n",
    "        \n",
    "    # get y-axis coordinates\n",
    "    while True:\n",
    "        y_axis = random.randint(0,2)\n",
    "        if parse_seat_list[x_axis][1:4][y_axis] == 1:\n",
    "            break\n",
    "\n",
    "    y_dic = {\n",
    "        1:'A',\n",
    "        2:'B',\n",
    "        3:'C',\n",
    "        4:'D',\n",
    "        5:'E',\n",
    "    }\n",
    "    real_col = y_dic[y_axis+2]\n",
    "    real_row = x_axis+1\n",
    "    seat_list_list[x_axis][y_axis+1][f'{real_row}{real_col}'] = 0\n",
    "    \n",
    "    return [TicketInfo(order_id, 1, real_row, real_col)]"
   ]
  },
  {
   "cell_type": "code",
   "execution_count": 326,
   "id": "3180af8e",
   "metadata": {
    "scrolled": true
   },
   "outputs": [
    {
     "name": "stdout",
     "output_type": "stream",
     "text": [
      "[TicketInfo(order_id='123456', car_number=1, column_no=6, row_no='D')]\n",
      "[{'1A': 1}, {'1B': 1}, {'1C': 1}, {'1D': 1}, {'1E': 1}]\n",
      "[{'2A': 1}, {'2B': 1}, {'2C': 1}, {'2D': 1}, {'2E': 1}]\n",
      "[{'3A': 1}, {'3B': 1}, {'3C': 1}, {'3D': 1}, {'3E': 1}]\n",
      "[{'4A': 1}, {'4B': 1}, {'4C': 1}, {'4D': 1}, {'4E': 1}]\n",
      "[{'5A': 1}, {'5B': 1}, {'5C': 1}, {'5D': 1}, {'5E': 1}]\n",
      "[{'6A': 1}, {'6B': 0}, {'6C': 1}, {'6D': 0}, {'6E': 1}]\n",
      "[{'7A': 1}, {'7B': 1}, {'7C': 1}, {'7D': 1}, {'7E': 1}]\n",
      "[{'8A': 1}, {'8B': 1}, {'8C': 1}, {'8D': 1}, {'8E': 1}]\n",
      "[{'9A': 1}, {'9B': 1}, {'9C': 1}, {'9D': 1}, {'9E': 1}]\n",
      "[{'10A': 1}, {'10B': 1}, {'10C': 1}, {'10D': 1}, {'10E': 1}]\n"
     ]
    }
   ],
   "source": [
    "tick = one_ticket_business_level_aisle_seat_strategy(seat_list_list, order_id = '123456')\n",
    "print(tick)\n",
    "for x in seat_list_list:\n",
    "    print(x)"
   ]
  },
  {
   "cell_type": "code",
   "execution_count": 323,
   "id": "916decfd",
   "metadata": {
    "scrolled": true
   },
   "outputs": [
    {
     "name": "stdout",
     "output_type": "stream",
     "text": [
      "[{'1A': 1}, {'1B': 1}, {'1C': 1}, {'1D': 1}, {'1E': 1}]\n",
      "[{'2A': 1}, {'2B': 1}, {'2C': 1}, {'2D': 1}, {'2E': 1}]\n",
      "[{'3A': 1}, {'3B': 1}, {'3C': 1}, {'3D': 1}, {'3E': 1}]\n",
      "[{'4A': 1}, {'4B': 1}, {'4C': 1}, {'4D': 1}, {'4E': 1}]\n",
      "[{'5A': 1}, {'5B': 1}, {'5C': 1}, {'5D': 1}, {'5E': 1}]\n",
      "[{'6A': 1}, {'6B': 1}, {'6C': 1}, {'6D': 1}, {'6E': 1}]\n",
      "[{'7A': 1}, {'7B': 1}, {'7C': 1}, {'7D': 1}, {'7E': 1}]\n",
      "[{'8A': 1}, {'8B': 1}, {'8C': 1}, {'8D': 1}, {'8E': 1}]\n",
      "[{'9A': 1}, {'9B': 1}, {'9C': 1}, {'9D': 1}, {'9E': 1}]\n",
      "[{'10A': 1}, {'10B': 1}, {'10C': 1}, {'10D': 1}, {'10E': 1}]\n"
     ]
    }
   ],
   "source": [
    "def generate_seat_list_list():\n",
    "    seat_list_list = [[{f'{row}{col}': 1} for col in ['A', 'B', 'C', 'D', 'E']] for row in range(1,11)]\n",
    "    for seat_list in seat_list_list:\n",
    "        print(seat_list)\n",
    "    return seat_list_list\n",
    "seat_list_list = generate_seat_list_list()"
   ]
  },
  {
   "cell_type": "code",
   "execution_count": 325,
   "id": "f90004f3",
   "metadata": {},
   "outputs": [],
   "source": [
    "seat_list_list = [\n",
    "    [{'1A': 1}, {'1B': 1}, {'1C': 1}, {'1D': 1}, {'1E': 1}],\n",
    "    [{'2A': 1}, {'2B': 1}, {'2C': 1}, {'2D': 1}, {'2E': 1}],\n",
    "    [{'3A': 1}, {'3B': 1}, {'3C': 1}, {'3D': 1}, {'3E': 1}],\n",
    "    [{'4A': 1}, {'4B': 1}, {'4C': 1}, {'4D': 1}, {'4E': 1}],\n",
    "    [{'5A': 1}, {'5B': 1}, {'5C': 1}, {'5D': 1}, {'5E': 1}],\n",
    "    [{'6A': 1}, {'6B': 0}, {'6C': 1}, {'6D': 1}, {'6E': 1}],\n",
    "    [{'7A': 1}, {'7B': 1}, {'7C': 1}, {'7D': 1}, {'7E': 1}],\n",
    "    [{'8A': 1}, {'8B': 1}, {'8C': 1}, {'8D': 1}, {'8E': 1}],\n",
    "    [{'9A': 1}, {'9B': 1}, {'9C': 1}, {'9D': 1}, {'9E': 1}],\n",
    "    [{'10A': 1}, {'10B': 1}, {'10C': 1}, {'10D': 1}, {'10E': 1}]\n",
    "]"
   ]
  },
  {
   "cell_type": "code",
   "execution_count": 289,
   "id": "b45fea42",
   "metadata": {},
   "outputs": [
    {
     "name": "stdout",
     "output_type": "stream",
     "text": [
      "CPU times: user 11 µs, sys: 0 ns, total: 11 µs\n",
      "Wall time: 16 µs\n"
     ]
    }
   ],
   "source": [
    "%%time\n",
    "def parse_seat_list_status(seat_list_list: list):\n",
    "    parse_seat_list = [ [sum(seat_list_list[row-1][col-1].values()) for col in range(1,6) ] for row in range(1,11)]\n",
    "    return parse_seat_list"
   ]
  },
  {
   "cell_type": "code",
   "execution_count": null,
   "id": "93c84bf8",
   "metadata": {},
   "outputs": [],
   "source": []
  }
 ],
 "metadata": {
  "kernelspec": {
   "display_name": "Python 3 (ipykernel)",
   "language": "python",
   "name": "python3"
  },
  "language_info": {
   "codemirror_mode": {
    "name": "ipython",
    "version": 3
   },
   "file_extension": ".py",
   "mimetype": "text/x-python",
   "name": "python",
   "nbconvert_exporter": "python",
   "pygments_lexer": "ipython3",
   "version": "3.8.9"
  }
 },
 "nbformat": 4,
 "nbformat_minor": 5
}
